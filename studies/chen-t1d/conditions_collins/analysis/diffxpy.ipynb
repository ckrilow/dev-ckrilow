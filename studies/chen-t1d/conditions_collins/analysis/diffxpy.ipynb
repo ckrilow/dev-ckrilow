{
 "cells": [
  {
   "cell_type": "code",
   "execution_count": 1,
   "metadata": {},
   "outputs": [],
   "source": [
    "%load_ext autoreload\n",
    "%autoreload 2\n",
    "\n",
    "import scanpy as sc\n",
    "import matplotlib.pyplot as plt\n",
    "import seaborn as sns\n",
    "import logging\n",
    "import numpy as np\n",
    "import pandas as pd\n",
    "import scipy.stats"
   ]
  },
  {
   "cell_type": "code",
   "execution_count": 2,
   "metadata": {},
   "outputs": [],
   "source": [
    "import diffxpy.api as de"
   ]
  },
  {
   "cell_type": "markdown",
   "metadata": {},
   "source": [
    "# Read data:"
   ]
  },
  {
   "cell_type": "markdown",
   "metadata": {},
   "source": [
    "Read data. This data is result from using the Parker lab thresholds in Anderson pipeline."
   ]
  },
  {
   "cell_type": "code",
   "execution_count": 3,
   "metadata": {},
   "outputs": [],
   "source": [
    "data = sc.read_h5ad(\"../results/nf-sample_qc=parker_singlet-parameter_sweep_v001_harmony/normalize=total_count.vars_to_regress=none.hvg_exclude=data-variable_gene_filter_ribo_mt.scores=data-gene_scores/reduced_dims-vars_to_regress=none-harmony.n_pcs=23.variables=experiment_id.thetas=1.0/cluster.number_neighbors=30.method=leiden.resolution=0.25/adata-normalized_pca-umap-clustered.h5ad\")"
   ]
  },
  {
   "cell_type": "markdown",
   "metadata": {},
   "source": [
    "# Running cluster-specific testing"
   ]
  },
  {
   "cell_type": "markdown",
   "metadata": {},
   "source": [
    "We can now partition the data set by cluster and conduct a test across conditions in each cell type."
   ]
  },
  {
   "cell_type": "code",
   "execution_count": 17,
   "metadata": {
    "scrolled": false
   },
   "outputs": [
    {
     "name": "stdout",
     "output_type": "stream",
     "text": [
      "training location model: True\n",
      "training scale model: True\n",
      "iter   0: ll=220871631505.539398\n",
      "iter   1: ll=220871631505.539398, converged: 0.00% (loc: 100.00%, scale update: False), in 89.17sec\n",
      "Fitting 22741 dispersion models: (progress not available with multiprocessing)"
     ]
    },
    {
     "name": "stderr",
     "output_type": "stream",
     "text": [
      "Process ForkPoolWorker-6:\n",
      "Process ForkPoolWorker-4:\n",
      "Process ForkPoolWorker-5:\n",
      "Traceback (most recent call last):\n",
      "Traceback (most recent call last):\n",
      "  File \"/usr/local/Cellar/python/3.7.7/Frameworks/Python.framework/Versions/3.7/lib/python3.7/multiprocessing/process.py\", line 297, in _bootstrap\n",
      "    self.run()\n",
      "  File \"/usr/local/Cellar/python/3.7.7/Frameworks/Python.framework/Versions/3.7/lib/python3.7/multiprocessing/process.py\", line 297, in _bootstrap\n",
      "    self.run()\n",
      "  File \"/usr/local/Cellar/python/3.7.7/Frameworks/Python.framework/Versions/3.7/lib/python3.7/multiprocessing/process.py\", line 99, in run\n",
      "    self._target(*self._args, **self._kwargs)\n",
      "  File \"/usr/local/Cellar/python/3.7.7/Frameworks/Python.framework/Versions/3.7/lib/python3.7/multiprocessing/process.py\", line 99, in run\n",
      "    self._target(*self._args, **self._kwargs)\n",
      "  File \"/usr/local/Cellar/python/3.7.7/Frameworks/Python.framework/Versions/3.7/lib/python3.7/multiprocessing/pool.py\", line 110, in worker\n",
      "    task = get()\n",
      "  File \"/usr/local/Cellar/python/3.7.7/Frameworks/Python.framework/Versions/3.7/lib/python3.7/multiprocessing/pool.py\", line 110, in worker\n",
      "    task = get()\n",
      "  File \"/usr/local/Cellar/python/3.7.7/Frameworks/Python.framework/Versions/3.7/lib/python3.7/multiprocessing/queues.py\", line 351, in get\n",
      "    with self._rlock:\n",
      "  File \"/usr/local/Cellar/python/3.7.7/Frameworks/Python.framework/Versions/3.7/lib/python3.7/multiprocessing/queues.py\", line 352, in get\n",
      "    res = self._reader.recv_bytes()\n",
      "Traceback (most recent call last):\n",
      "  File \"/usr/local/Cellar/python/3.7.7/Frameworks/Python.framework/Versions/3.7/lib/python3.7/multiprocessing/connection.py\", line 216, in recv_bytes\n",
      "    buf = self._recv_bytes(maxlength)\n",
      "  File \"/usr/local/Cellar/python/3.7.7/Frameworks/Python.framework/Versions/3.7/lib/python3.7/multiprocessing/synchronize.py\", line 95, in __enter__\n",
      "    return self._semlock.__enter__()\n",
      "  File \"/usr/local/Cellar/python/3.7.7/Frameworks/Python.framework/Versions/3.7/lib/python3.7/multiprocessing/process.py\", line 297, in _bootstrap\n",
      "    self.run()\n",
      "  File \"/usr/local/Cellar/python/3.7.7/Frameworks/Python.framework/Versions/3.7/lib/python3.7/multiprocessing/connection.py\", line 411, in _recv_bytes\n",
      "    return self._recv(size)\n",
      "KeyboardInterrupt\n",
      "  File \"/usr/local/Cellar/python/3.7.7/Frameworks/Python.framework/Versions/3.7/lib/python3.7/multiprocessing/connection.py\", line 379, in _recv\n",
      "    chunk = read(handle, remaining)\n",
      "  File \"/usr/local/Cellar/python/3.7.7/Frameworks/Python.framework/Versions/3.7/lib/python3.7/multiprocessing/process.py\", line 99, in run\n",
      "    self._target(*self._args, **self._kwargs)\n",
      "  File \"/usr/local/Cellar/python/3.7.7/Frameworks/Python.framework/Versions/3.7/lib/python3.7/multiprocessing/pool.py\", line 121, in worker\n",
      "    result = (True, func(*args, **kwds))\n",
      "KeyboardInterrupt\n",
      "  File \"/usr/local/Cellar/python/3.7.7/Frameworks/Python.framework/Versions/3.7/lib/python3.7/multiprocessing/pool.py\", line 47, in starmapstar\n",
      "    return list(itertools.starmap(args[0], args[1]))\n",
      "  File \"/Users/taylorhj/repo/batchglm/batchglm/train/numpy/base_glm/estimator.py\", line 442, in optim_handle\n",
      "    full_output=True\n",
      "  File \"/usr/local/lib/python3.7/site-packages/scipy/optimize/optimize.py\", line 2134, in brent\n",
      "    res = _minimize_scalar_brent(func, brack, args, **options)\n"
     ]
    },
    {
     "ename": "EOFError",
     "evalue": "Ran out of input",
     "output_type": "error",
     "traceback": [
      "\u001b[0;31m---------------------------------------------------------------------------\u001b[0m",
      "\u001b[0;31mKeyboardInterrupt\u001b[0m                         Traceback (most recent call last)",
      "\u001b[0;32m~/repo/batchglm/batchglm/train/numpy/base_glm/estimator.py\u001b[0m in \u001b[0;36m_b_step_loop\u001b[0;34m(self, idx_update, method, max_iter, ftol, nproc)\u001b[0m\n\u001b[1;32m    477\u001b[0m                         \u001b[0mftol\u001b[0m\u001b[0;34m\u001b[0m\u001b[0;34m\u001b[0m\u001b[0m\n\u001b[0;32m--> 478\u001b[0;31m                     ) for j in idx_update]\n\u001b[0m\u001b[1;32m    479\u001b[0m                 )\n",
      "\u001b[0;32m/usr/local/Cellar/python/3.7.7/Frameworks/Python.framework/Versions/3.7/lib/python3.7/multiprocessing/pool.py\u001b[0m in \u001b[0;36mstarmap\u001b[0;34m(self, func, iterable, chunksize)\u001b[0m\n\u001b[1;32m    275\u001b[0m         '''\n\u001b[0;32m--> 276\u001b[0;31m         \u001b[0;32mreturn\u001b[0m \u001b[0mself\u001b[0m\u001b[0;34m.\u001b[0m\u001b[0m_map_async\u001b[0m\u001b[0;34m(\u001b[0m\u001b[0mfunc\u001b[0m\u001b[0;34m,\u001b[0m \u001b[0miterable\u001b[0m\u001b[0;34m,\u001b[0m \u001b[0mstarmapstar\u001b[0m\u001b[0;34m,\u001b[0m \u001b[0mchunksize\u001b[0m\u001b[0;34m)\u001b[0m\u001b[0;34m.\u001b[0m\u001b[0mget\u001b[0m\u001b[0;34m(\u001b[0m\u001b[0;34m)\u001b[0m\u001b[0;34m\u001b[0m\u001b[0;34m\u001b[0m\u001b[0m\n\u001b[0m\u001b[1;32m    277\u001b[0m \u001b[0;34m\u001b[0m\u001b[0m\n",
      "\u001b[0;32m/usr/local/Cellar/python/3.7.7/Frameworks/Python.framework/Versions/3.7/lib/python3.7/multiprocessing/pool.py\u001b[0m in \u001b[0;36mget\u001b[0;34m(self, timeout)\u001b[0m\n\u001b[1;32m    650\u001b[0m     \u001b[0;32mdef\u001b[0m \u001b[0mget\u001b[0m\u001b[0;34m(\u001b[0m\u001b[0mself\u001b[0m\u001b[0;34m,\u001b[0m \u001b[0mtimeout\u001b[0m\u001b[0;34m=\u001b[0m\u001b[0;32mNone\u001b[0m\u001b[0;34m)\u001b[0m\u001b[0;34m:\u001b[0m\u001b[0;34m\u001b[0m\u001b[0;34m\u001b[0m\u001b[0m\n\u001b[0;32m--> 651\u001b[0;31m         \u001b[0mself\u001b[0m\u001b[0;34m.\u001b[0m\u001b[0mwait\u001b[0m\u001b[0;34m(\u001b[0m\u001b[0mtimeout\u001b[0m\u001b[0;34m)\u001b[0m\u001b[0;34m\u001b[0m\u001b[0;34m\u001b[0m\u001b[0m\n\u001b[0m\u001b[1;32m    652\u001b[0m         \u001b[0;32mif\u001b[0m \u001b[0;32mnot\u001b[0m \u001b[0mself\u001b[0m\u001b[0;34m.\u001b[0m\u001b[0mready\u001b[0m\u001b[0;34m(\u001b[0m\u001b[0;34m)\u001b[0m\u001b[0;34m:\u001b[0m\u001b[0;34m\u001b[0m\u001b[0;34m\u001b[0m\u001b[0m\n",
      "\u001b[0;32m/usr/local/Cellar/python/3.7.7/Frameworks/Python.framework/Versions/3.7/lib/python3.7/multiprocessing/pool.py\u001b[0m in \u001b[0;36mwait\u001b[0;34m(self, timeout)\u001b[0m\n\u001b[1;32m    647\u001b[0m     \u001b[0;32mdef\u001b[0m \u001b[0mwait\u001b[0m\u001b[0;34m(\u001b[0m\u001b[0mself\u001b[0m\u001b[0;34m,\u001b[0m \u001b[0mtimeout\u001b[0m\u001b[0;34m=\u001b[0m\u001b[0;32mNone\u001b[0m\u001b[0;34m)\u001b[0m\u001b[0;34m:\u001b[0m\u001b[0;34m\u001b[0m\u001b[0;34m\u001b[0m\u001b[0m\n\u001b[0;32m--> 648\u001b[0;31m         \u001b[0mself\u001b[0m\u001b[0;34m.\u001b[0m\u001b[0m_event\u001b[0m\u001b[0;34m.\u001b[0m\u001b[0mwait\u001b[0m\u001b[0;34m(\u001b[0m\u001b[0mtimeout\u001b[0m\u001b[0;34m)\u001b[0m\u001b[0;34m\u001b[0m\u001b[0;34m\u001b[0m\u001b[0m\n\u001b[0m\u001b[1;32m    649\u001b[0m \u001b[0;34m\u001b[0m\u001b[0m\n",
      "\u001b[0;32m/usr/local/Cellar/python/3.7.7/Frameworks/Python.framework/Versions/3.7/lib/python3.7/threading.py\u001b[0m in \u001b[0;36mwait\u001b[0;34m(self, timeout)\u001b[0m\n\u001b[1;32m    551\u001b[0m             \u001b[0;32mif\u001b[0m \u001b[0;32mnot\u001b[0m \u001b[0msignaled\u001b[0m\u001b[0;34m:\u001b[0m\u001b[0;34m\u001b[0m\u001b[0;34m\u001b[0m\u001b[0m\n\u001b[0;32m--> 552\u001b[0;31m                 \u001b[0msignaled\u001b[0m \u001b[0;34m=\u001b[0m \u001b[0mself\u001b[0m\u001b[0;34m.\u001b[0m\u001b[0m_cond\u001b[0m\u001b[0;34m.\u001b[0m\u001b[0mwait\u001b[0m\u001b[0;34m(\u001b[0m\u001b[0mtimeout\u001b[0m\u001b[0;34m)\u001b[0m\u001b[0;34m\u001b[0m\u001b[0;34m\u001b[0m\u001b[0m\n\u001b[0m\u001b[1;32m    553\u001b[0m             \u001b[0;32mreturn\u001b[0m \u001b[0msignaled\u001b[0m\u001b[0;34m\u001b[0m\u001b[0;34m\u001b[0m\u001b[0m\n",
      "\u001b[0;32m/usr/local/Cellar/python/3.7.7/Frameworks/Python.framework/Versions/3.7/lib/python3.7/threading.py\u001b[0m in \u001b[0;36mwait\u001b[0;34m(self, timeout)\u001b[0m\n\u001b[1;32m    295\u001b[0m             \u001b[0;32mif\u001b[0m \u001b[0mtimeout\u001b[0m \u001b[0;32mis\u001b[0m \u001b[0;32mNone\u001b[0m\u001b[0;34m:\u001b[0m\u001b[0;34m\u001b[0m\u001b[0;34m\u001b[0m\u001b[0m\n\u001b[0;32m--> 296\u001b[0;31m                 \u001b[0mwaiter\u001b[0m\u001b[0;34m.\u001b[0m\u001b[0macquire\u001b[0m\u001b[0;34m(\u001b[0m\u001b[0;34m)\u001b[0m\u001b[0;34m\u001b[0m\u001b[0;34m\u001b[0m\u001b[0m\n\u001b[0m\u001b[1;32m    297\u001b[0m                 \u001b[0mgotit\u001b[0m \u001b[0;34m=\u001b[0m \u001b[0;32mTrue\u001b[0m\u001b[0;34m\u001b[0m\u001b[0;34m\u001b[0m\u001b[0m\n",
      "\u001b[0;31mKeyboardInterrupt\u001b[0m: ",
      "\nDuring handling of the above exception, another exception occurred:\n",
      "\u001b[0;31mEOFError\u001b[0m                                  Traceback (most recent call last)",
      "\u001b[0;32m<ipython-input-17-f0e7fa2fa5cd>\u001b[0m in \u001b[0;36m<module>\u001b[0;34m\u001b[0m\n\u001b[1;32m      6\u001b[0m     \u001b[0mformula_loc\u001b[0m\u001b[0;34m=\u001b[0m\u001b[0;34m\"~ 1 + condition\"\u001b[0m\u001b[0;34m,\u001b[0m\u001b[0;34m\u001b[0m\u001b[0;34m\u001b[0m\u001b[0m\n\u001b[1;32m      7\u001b[0m     \u001b[0mfactor_loc_totest\u001b[0m\u001b[0;34m=\u001b[0m\u001b[0;34m\"condition\"\u001b[0m\u001b[0;34m,\u001b[0m\u001b[0;34m\u001b[0m\u001b[0;34m\u001b[0m\u001b[0m\n\u001b[0;32m----> 8\u001b[0;31m     \u001b[0msize_factors\u001b[0m\u001b[0;34m=\u001b[0m\u001b[0mdata\u001b[0m\u001b[0;34m.\u001b[0m\u001b[0mobs\u001b[0m\u001b[0;34m[\u001b[0m\u001b[0;34m\"normalization_factor\"\u001b[0m\u001b[0;34m]\u001b[0m\u001b[0;34m\u001b[0m\u001b[0;34m\u001b[0m\u001b[0m\n\u001b[0m\u001b[1;32m      9\u001b[0m )\n",
      "\u001b[0;32m~/repo/diffxpy/diffxpy/testing/tests.py\u001b[0m in \u001b[0;36mwald\u001b[0;34m(self, factor_loc_totest, coef_to_test, formula_loc, formula_scale, as_numeric, constraints_loc, constraints_scale, noise_model, size_factors, batch_size, backend, train_args, training_strategy, **kwargs)\u001b[0m\n\u001b[1;32m   1960\u001b[0m                 \u001b[0mtrain_args\u001b[0m\u001b[0;34m=\u001b[0m\u001b[0mtrain_args\u001b[0m\u001b[0;34m,\u001b[0m\u001b[0;34m\u001b[0m\u001b[0;34m\u001b[0m\u001b[0m\n\u001b[1;32m   1961\u001b[0m                 \u001b[0mtraining_strategy\u001b[0m\u001b[0;34m=\u001b[0m\u001b[0mtraining_strategy\u001b[0m\u001b[0;34m,\u001b[0m\u001b[0;34m\u001b[0m\u001b[0;34m\u001b[0m\u001b[0m\n\u001b[0;32m-> 1962\u001b[0;31m                 \u001b[0;34m**\u001b[0m\u001b[0mkwargs\u001b[0m\u001b[0;34m\u001b[0m\u001b[0;34m\u001b[0m\u001b[0m\n\u001b[0m\u001b[1;32m   1963\u001b[0m             ))\n\u001b[1;32m   1964\u001b[0m         return DifferentialExpressionTestByPartition(\n",
      "\u001b[0;32m~/repo/diffxpy/diffxpy/testing/tests.py\u001b[0m in \u001b[0;36mwald\u001b[0;34m(data, factor_loc_totest, coef_to_test, formula_loc, formula_scale, as_numeric, init_a, init_b, gene_names, sample_description, dmat_loc, dmat_scale, constraints_loc, constraints_scale, noise_model, size_factors, batch_size, backend, train_args, training_strategy, quick_scale, dtype, **kwargs)\u001b[0m\n\u001b[1;32m    734\u001b[0m         \u001b[0mquick_scale\u001b[0m\u001b[0;34m=\u001b[0m\u001b[0mquick_scale\u001b[0m\u001b[0;34m,\u001b[0m\u001b[0;34m\u001b[0m\u001b[0;34m\u001b[0m\u001b[0m\n\u001b[1;32m    735\u001b[0m         \u001b[0mdtype\u001b[0m\u001b[0;34m=\u001b[0m\u001b[0mdtype\u001b[0m\u001b[0;34m,\u001b[0m\u001b[0;34m\u001b[0m\u001b[0;34m\u001b[0m\u001b[0m\n\u001b[0;32m--> 736\u001b[0;31m         \u001b[0;34m**\u001b[0m\u001b[0mkwargs\u001b[0m\u001b[0;34m,\u001b[0m\u001b[0;34m\u001b[0m\u001b[0;34m\u001b[0m\u001b[0m\n\u001b[0m\u001b[1;32m    737\u001b[0m     )\n\u001b[1;32m    738\u001b[0m \u001b[0;34m\u001b[0m\u001b[0m\n",
      "\u001b[0;32m~/repo/diffxpy/diffxpy/testing/tests.py\u001b[0m in \u001b[0;36m_fit\u001b[0;34m(noise_model, data, design_loc, design_scale, design_loc_names, design_scale_names, constraints_loc, constraints_scale, init_model, init_a, init_b, gene_names, size_factors, batch_size, backend, training_strategy, quick_scale, train_args, close_session, dtype)\u001b[0m\n\u001b[1;32m    242\u001b[0m     estim.train_sequence(\n\u001b[1;32m    243\u001b[0m         \u001b[0mtraining_strategy\u001b[0m\u001b[0;34m=\u001b[0m\u001b[0mtraining_strategy\u001b[0m\u001b[0;34m,\u001b[0m\u001b[0;34m\u001b[0m\u001b[0;34m\u001b[0m\u001b[0m\n\u001b[0;32m--> 244\u001b[0;31m         \u001b[0;34m**\u001b[0m\u001b[0mtrain_args\u001b[0m\u001b[0;34m\u001b[0m\u001b[0;34m\u001b[0m\u001b[0m\n\u001b[0m\u001b[1;32m    245\u001b[0m     )\n\u001b[1;32m    246\u001b[0m \u001b[0;34m\u001b[0m\u001b[0m\n",
      "\u001b[0;32m~/repo/batchglm/batchglm/models/base/estimator.py\u001b[0m in \u001b[0;36mtrain_sequence\u001b[0;34m(self, training_strategy, **kwargs)\u001b[0m\n\u001b[1;32m    122\u001b[0m                         \u001b[0;34m(\u001b[0m\u001b[0mx\u001b[0m\u001b[0;34m,\u001b[0m \u001b[0mstr\u001b[0m\u001b[0;34m(\u001b[0m\u001b[0md\u001b[0m\u001b[0;34m[\u001b[0m\u001b[0mx\u001b[0m\u001b[0;34m]\u001b[0m\u001b[0;34m)\u001b[0m\u001b[0;34m,\u001b[0m \u001b[0mstr\u001b[0m\u001b[0;34m(\u001b[0m\u001b[0mkwargs\u001b[0m\u001b[0;34m[\u001b[0m\u001b[0mx\u001b[0m\u001b[0;34m]\u001b[0m\u001b[0;34m)\u001b[0m\u001b[0;34m)\u001b[0m\u001b[0;34m\u001b[0m\u001b[0;34m\u001b[0m\u001b[0m\n\u001b[1;32m    123\u001b[0m                     )\n\u001b[0;32m--> 124\u001b[0;31m             \u001b[0mself\u001b[0m\u001b[0;34m.\u001b[0m\u001b[0mtrain\u001b[0m\u001b[0;34m(\u001b[0m\u001b[0;34m**\u001b[0m\u001b[0md\u001b[0m\u001b[0;34m,\u001b[0m \u001b[0;34m**\u001b[0m\u001b[0mkwargs\u001b[0m\u001b[0;34m)\u001b[0m\u001b[0;34m\u001b[0m\u001b[0;34m\u001b[0m\u001b[0m\n\u001b[0m\u001b[1;32m    125\u001b[0m             \u001b[0mlogger\u001b[0m\u001b[0;34m.\u001b[0m\u001b[0mdebug\u001b[0m\u001b[0;34m(\u001b[0m\u001b[0;34m\"Training sequence #%d complete\"\u001b[0m\u001b[0;34m,\u001b[0m \u001b[0midx\u001b[0m \u001b[0;34m+\u001b[0m \u001b[0;36m1\u001b[0m\u001b[0;34m)\u001b[0m\u001b[0;34m\u001b[0m\u001b[0;34m\u001b[0m\u001b[0m\n\u001b[1;32m    126\u001b[0m \u001b[0;34m\u001b[0m\u001b[0m\n",
      "\u001b[0;32m~/repo/batchglm/batchglm/train/numpy/base_glm/estimator.py\u001b[0m in \u001b[0;36mtrain\u001b[0;34m(self, max_steps, method_b, update_b_freq, ftol_b, lr_b, max_iter_b, nproc, **kwargs)\u001b[0m\n\u001b[1;32m    110\u001b[0m                         \u001b[0mlr\u001b[0m\u001b[0;34m=\u001b[0m\u001b[0mlr_b\u001b[0m\u001b[0;34m,\u001b[0m\u001b[0;34m\u001b[0m\u001b[0;34m\u001b[0m\u001b[0m\n\u001b[1;32m    111\u001b[0m                         \u001b[0mmax_iter\u001b[0m\u001b[0;34m=\u001b[0m\u001b[0mmax_iter_b\u001b[0m\u001b[0;34m,\u001b[0m\u001b[0;34m\u001b[0m\u001b[0;34m\u001b[0m\u001b[0m\n\u001b[0;32m--> 112\u001b[0;31m                         \u001b[0mnproc\u001b[0m\u001b[0;34m=\u001b[0m\u001b[0mnproc\u001b[0m\u001b[0;34m\u001b[0m\u001b[0;34m\u001b[0m\u001b[0m\n\u001b[0m\u001b[1;32m    113\u001b[0m                     )\n\u001b[1;32m    114\u001b[0m                     \u001b[0;31m# Perform trial update.\u001b[0m\u001b[0;34m\u001b[0m\u001b[0;34m\u001b[0m\u001b[0;34m\u001b[0m\u001b[0m\n",
      "\u001b[0;32m~/repo/batchglm/batchglm/train/numpy/base_glm/estimator.py\u001b[0m in \u001b[0;36mb_step\u001b[0;34m(self, idx_update, method, ftol, lr, max_iter, nproc)\u001b[0m\n\u001b[1;32m    349\u001b[0m                 \u001b[0mftol\u001b[0m\u001b[0;34m=\u001b[0m\u001b[0mftol\u001b[0m\u001b[0;34m,\u001b[0m\u001b[0;34m\u001b[0m\u001b[0;34m\u001b[0m\u001b[0m\n\u001b[1;32m    350\u001b[0m                 \u001b[0mmax_iter\u001b[0m\u001b[0;34m=\u001b[0m\u001b[0mmax_iter\u001b[0m\u001b[0;34m,\u001b[0m\u001b[0;34m\u001b[0m\u001b[0;34m\u001b[0m\u001b[0m\n\u001b[0;32m--> 351\u001b[0;31m                 \u001b[0mnproc\u001b[0m\u001b[0;34m=\u001b[0m\u001b[0mnproc\u001b[0m\u001b[0;34m\u001b[0m\u001b[0;34m\u001b[0m\u001b[0m\n\u001b[0m\u001b[1;32m    352\u001b[0m             )\n\u001b[1;32m    353\u001b[0m \u001b[0;34m\u001b[0m\u001b[0m\n",
      "\u001b[0;32m~/repo/batchglm/batchglm/train/numpy/base_glm/estimator.py\u001b[0m in \u001b[0;36m_b_step_loop\u001b[0;34m(self, idx_update, method, max_iter, ftol, nproc)\u001b[0m\n\u001b[1;32m    478\u001b[0m                     ) for j in idx_update]\n\u001b[1;32m    479\u001b[0m                 )\n\u001b[0;32m--> 480\u001b[0;31m                 \u001b[0mpool\u001b[0m\u001b[0;34m.\u001b[0m\u001b[0mclose\u001b[0m\u001b[0;34m(\u001b[0m\u001b[0;34m)\u001b[0m\u001b[0;34m\u001b[0m\u001b[0;34m\u001b[0m\u001b[0m\n\u001b[0m\u001b[1;32m    481\u001b[0m             \u001b[0mdelta_theta\u001b[0m\u001b[0;34m[\u001b[0m\u001b[0;36m0\u001b[0m\u001b[0;34m,\u001b[0m \u001b[0midx_update\u001b[0m\u001b[0;34m]\u001b[0m \u001b[0;34m=\u001b[0m \u001b[0mnp\u001b[0m\u001b[0;34m.\u001b[0m\u001b[0marray\u001b[0m\u001b[0;34m(\u001b[0m\u001b[0;34m[\u001b[0m\u001b[0mx\u001b[0m\u001b[0;34m[\u001b[0m\u001b[0;36m0\u001b[0m\u001b[0;34m]\u001b[0m \u001b[0;32mfor\u001b[0m \u001b[0mx\u001b[0m \u001b[0;32min\u001b[0m \u001b[0mresults\u001b[0m\u001b[0;34m]\u001b[0m\u001b[0;34m)\u001b[0m\u001b[0;34m\u001b[0m\u001b[0;34m\u001b[0m\u001b[0m\n\u001b[1;32m    482\u001b[0m             \u001b[0msys\u001b[0m\u001b[0;34m.\u001b[0m\u001b[0mstdout\u001b[0m\u001b[0;34m.\u001b[0m\u001b[0mwrite\u001b[0m\u001b[0;34m(\u001b[0m\u001b[0;34m'\\r'\u001b[0m\u001b[0;34m)\u001b[0m\u001b[0;34m\u001b[0m\u001b[0;34m\u001b[0m\u001b[0m\n",
      "\u001b[0;32m/usr/local/Cellar/python/3.7.7/Frameworks/Python.framework/Versions/3.7/lib/python3.7/multiprocessing/pool.py\u001b[0m in \u001b[0;36m__exit__\u001b[0;34m(self, exc_type, exc_val, exc_tb)\u001b[0m\n\u001b[1;32m    621\u001b[0m \u001b[0;34m\u001b[0m\u001b[0m\n\u001b[1;32m    622\u001b[0m     \u001b[0;32mdef\u001b[0m \u001b[0m__exit__\u001b[0m\u001b[0;34m(\u001b[0m\u001b[0mself\u001b[0m\u001b[0;34m,\u001b[0m \u001b[0mexc_type\u001b[0m\u001b[0;34m,\u001b[0m \u001b[0mexc_val\u001b[0m\u001b[0;34m,\u001b[0m \u001b[0mexc_tb\u001b[0m\u001b[0;34m)\u001b[0m\u001b[0;34m:\u001b[0m\u001b[0;34m\u001b[0m\u001b[0;34m\u001b[0m\u001b[0m\n\u001b[0;32m--> 623\u001b[0;31m         \u001b[0mself\u001b[0m\u001b[0;34m.\u001b[0m\u001b[0mterminate\u001b[0m\u001b[0;34m(\u001b[0m\u001b[0;34m)\u001b[0m\u001b[0;34m\u001b[0m\u001b[0;34m\u001b[0m\u001b[0m\n\u001b[0m\u001b[1;32m    624\u001b[0m \u001b[0;34m\u001b[0m\u001b[0m\n\u001b[1;32m    625\u001b[0m \u001b[0;31m#\u001b[0m\u001b[0;34m\u001b[0m\u001b[0;34m\u001b[0m\u001b[0;34m\u001b[0m\u001b[0m\n",
      "\u001b[0;32m/usr/local/Cellar/python/3.7.7/Frameworks/Python.framework/Versions/3.7/lib/python3.7/multiprocessing/pool.py\u001b[0m in \u001b[0;36mterminate\u001b[0;34m(self)\u001b[0m\n\u001b[1;32m    546\u001b[0m         \u001b[0mself\u001b[0m\u001b[0;34m.\u001b[0m\u001b[0m_state\u001b[0m \u001b[0;34m=\u001b[0m \u001b[0mTERMINATE\u001b[0m\u001b[0;34m\u001b[0m\u001b[0;34m\u001b[0m\u001b[0m\n\u001b[1;32m    547\u001b[0m         \u001b[0mself\u001b[0m\u001b[0;34m.\u001b[0m\u001b[0m_worker_handler\u001b[0m\u001b[0;34m.\u001b[0m\u001b[0m_state\u001b[0m \u001b[0;34m=\u001b[0m \u001b[0mTERMINATE\u001b[0m\u001b[0;34m\u001b[0m\u001b[0;34m\u001b[0m\u001b[0m\n\u001b[0;32m--> 548\u001b[0;31m         \u001b[0mself\u001b[0m\u001b[0;34m.\u001b[0m\u001b[0m_terminate\u001b[0m\u001b[0;34m(\u001b[0m\u001b[0;34m)\u001b[0m\u001b[0;34m\u001b[0m\u001b[0;34m\u001b[0m\u001b[0m\n\u001b[0m\u001b[1;32m    549\u001b[0m \u001b[0;34m\u001b[0m\u001b[0m\n\u001b[1;32m    550\u001b[0m     \u001b[0;32mdef\u001b[0m \u001b[0mjoin\u001b[0m\u001b[0;34m(\u001b[0m\u001b[0mself\u001b[0m\u001b[0;34m)\u001b[0m\u001b[0;34m:\u001b[0m\u001b[0;34m\u001b[0m\u001b[0;34m\u001b[0m\u001b[0m\n",
      "\u001b[0;32m/usr/local/Cellar/python/3.7.7/Frameworks/Python.framework/Versions/3.7/lib/python3.7/multiprocessing/util.py\u001b[0m in \u001b[0;36m__call__\u001b[0;34m(self, wr, _finalizer_registry, sub_debug, getpid)\u001b[0m\n\u001b[1;32m    199\u001b[0m                 sub_debug('finalizer calling %s with args %s and kwargs %s',\n\u001b[1;32m    200\u001b[0m                           self._callback, self._args, self._kwargs)\n\u001b[0;32m--> 201\u001b[0;31m                 \u001b[0mres\u001b[0m \u001b[0;34m=\u001b[0m \u001b[0mself\u001b[0m\u001b[0;34m.\u001b[0m\u001b[0m_callback\u001b[0m\u001b[0;34m(\u001b[0m\u001b[0;34m*\u001b[0m\u001b[0mself\u001b[0m\u001b[0;34m.\u001b[0m\u001b[0m_args\u001b[0m\u001b[0;34m,\u001b[0m \u001b[0;34m**\u001b[0m\u001b[0mself\u001b[0m\u001b[0;34m.\u001b[0m\u001b[0m_kwargs\u001b[0m\u001b[0;34m)\u001b[0m\u001b[0;34m\u001b[0m\u001b[0;34m\u001b[0m\u001b[0m\n\u001b[0m\u001b[1;32m    202\u001b[0m             \u001b[0mself\u001b[0m\u001b[0;34m.\u001b[0m\u001b[0m_weakref\u001b[0m \u001b[0;34m=\u001b[0m \u001b[0mself\u001b[0m\u001b[0;34m.\u001b[0m\u001b[0m_callback\u001b[0m \u001b[0;34m=\u001b[0m \u001b[0mself\u001b[0m\u001b[0;34m.\u001b[0m\u001b[0m_args\u001b[0m \u001b[0;34m=\u001b[0m\u001b[0;31m \u001b[0m\u001b[0;31m\\\u001b[0m\u001b[0;34m\u001b[0m\u001b[0;34m\u001b[0m\u001b[0m\n\u001b[1;32m    203\u001b[0m                             \u001b[0mself\u001b[0m\u001b[0;34m.\u001b[0m\u001b[0m_kwargs\u001b[0m \u001b[0;34m=\u001b[0m \u001b[0mself\u001b[0m\u001b[0;34m.\u001b[0m\u001b[0m_key\u001b[0m \u001b[0;34m=\u001b[0m \u001b[0;32mNone\u001b[0m\u001b[0;34m\u001b[0m\u001b[0;34m\u001b[0m\u001b[0m\n",
      "\u001b[0;32m/usr/local/Cellar/python/3.7.7/Frameworks/Python.framework/Versions/3.7/lib/python3.7/multiprocessing/pool.py\u001b[0m in \u001b[0;36m_terminate_pool\u001b[0;34m(cls, taskqueue, inqueue, outqueue, pool, worker_handler, task_handler, result_handler, cache)\u001b[0m\n\u001b[1;32m    579\u001b[0m \u001b[0;34m\u001b[0m\u001b[0m\n\u001b[1;32m    580\u001b[0m         \u001b[0mutil\u001b[0m\u001b[0;34m.\u001b[0m\u001b[0mdebug\u001b[0m\u001b[0;34m(\u001b[0m\u001b[0;34m'helping task handler/workers to finish'\u001b[0m\u001b[0;34m)\u001b[0m\u001b[0;34m\u001b[0m\u001b[0;34m\u001b[0m\u001b[0m\n\u001b[0;32m--> 581\u001b[0;31m         \u001b[0mcls\u001b[0m\u001b[0;34m.\u001b[0m\u001b[0m_help_stuff_finish\u001b[0m\u001b[0;34m(\u001b[0m\u001b[0minqueue\u001b[0m\u001b[0;34m,\u001b[0m \u001b[0mtask_handler\u001b[0m\u001b[0;34m,\u001b[0m \u001b[0mlen\u001b[0m\u001b[0;34m(\u001b[0m\u001b[0mpool\u001b[0m\u001b[0;34m)\u001b[0m\u001b[0;34m)\u001b[0m\u001b[0;34m\u001b[0m\u001b[0;34m\u001b[0m\u001b[0m\n\u001b[0m\u001b[1;32m    582\u001b[0m \u001b[0;34m\u001b[0m\u001b[0m\n\u001b[1;32m    583\u001b[0m         \u001b[0;32mif\u001b[0m \u001b[0;34m(\u001b[0m\u001b[0;32mnot\u001b[0m \u001b[0mresult_handler\u001b[0m\u001b[0;34m.\u001b[0m\u001b[0mis_alive\u001b[0m\u001b[0;34m(\u001b[0m\u001b[0;34m)\u001b[0m\u001b[0;34m)\u001b[0m \u001b[0;32mand\u001b[0m \u001b[0;34m(\u001b[0m\u001b[0mlen\u001b[0m\u001b[0;34m(\u001b[0m\u001b[0mcache\u001b[0m\u001b[0;34m)\u001b[0m \u001b[0;34m!=\u001b[0m \u001b[0;36m0\u001b[0m\u001b[0;34m)\u001b[0m\u001b[0;34m:\u001b[0m\u001b[0;34m\u001b[0m\u001b[0;34m\u001b[0m\u001b[0m\n",
      "\u001b[0;32m/usr/local/Cellar/python/3.7.7/Frameworks/Python.framework/Versions/3.7/lib/python3.7/multiprocessing/pool.py\u001b[0m in \u001b[0;36m_help_stuff_finish\u001b[0;34m(inqueue, task_handler, size)\u001b[0m\n\u001b[1;32m    566\u001b[0m         \u001b[0minqueue\u001b[0m\u001b[0;34m.\u001b[0m\u001b[0m_rlock\u001b[0m\u001b[0;34m.\u001b[0m\u001b[0macquire\u001b[0m\u001b[0;34m(\u001b[0m\u001b[0;34m)\u001b[0m\u001b[0;34m\u001b[0m\u001b[0;34m\u001b[0m\u001b[0m\n\u001b[1;32m    567\u001b[0m         \u001b[0;32mwhile\u001b[0m \u001b[0mtask_handler\u001b[0m\u001b[0;34m.\u001b[0m\u001b[0mis_alive\u001b[0m\u001b[0;34m(\u001b[0m\u001b[0;34m)\u001b[0m \u001b[0;32mand\u001b[0m \u001b[0minqueue\u001b[0m\u001b[0;34m.\u001b[0m\u001b[0m_reader\u001b[0m\u001b[0;34m.\u001b[0m\u001b[0mpoll\u001b[0m\u001b[0;34m(\u001b[0m\u001b[0;34m)\u001b[0m\u001b[0;34m:\u001b[0m\u001b[0;34m\u001b[0m\u001b[0;34m\u001b[0m\u001b[0m\n\u001b[0;32m--> 568\u001b[0;31m             \u001b[0minqueue\u001b[0m\u001b[0;34m.\u001b[0m\u001b[0m_reader\u001b[0m\u001b[0;34m.\u001b[0m\u001b[0mrecv\u001b[0m\u001b[0;34m(\u001b[0m\u001b[0;34m)\u001b[0m\u001b[0;34m\u001b[0m\u001b[0;34m\u001b[0m\u001b[0m\n\u001b[0m\u001b[1;32m    569\u001b[0m             \u001b[0mtime\u001b[0m\u001b[0;34m.\u001b[0m\u001b[0msleep\u001b[0m\u001b[0;34m(\u001b[0m\u001b[0;36m0\u001b[0m\u001b[0;34m)\u001b[0m\u001b[0;34m\u001b[0m\u001b[0;34m\u001b[0m\u001b[0m\n\u001b[1;32m    570\u001b[0m \u001b[0;34m\u001b[0m\u001b[0m\n",
      "\u001b[0;32m/usr/local/Cellar/python/3.7.7/Frameworks/Python.framework/Versions/3.7/lib/python3.7/multiprocessing/connection.py\u001b[0m in \u001b[0;36mrecv\u001b[0;34m(self)\u001b[0m\n\u001b[1;32m    249\u001b[0m         \u001b[0mself\u001b[0m\u001b[0;34m.\u001b[0m\u001b[0m_check_readable\u001b[0m\u001b[0;34m(\u001b[0m\u001b[0;34m)\u001b[0m\u001b[0;34m\u001b[0m\u001b[0;34m\u001b[0m\u001b[0m\n\u001b[1;32m    250\u001b[0m         \u001b[0mbuf\u001b[0m \u001b[0;34m=\u001b[0m \u001b[0mself\u001b[0m\u001b[0;34m.\u001b[0m\u001b[0m_recv_bytes\u001b[0m\u001b[0;34m(\u001b[0m\u001b[0;34m)\u001b[0m\u001b[0;34m\u001b[0m\u001b[0;34m\u001b[0m\u001b[0m\n\u001b[0;32m--> 251\u001b[0;31m         \u001b[0;32mreturn\u001b[0m \u001b[0m_ForkingPickler\u001b[0m\u001b[0;34m.\u001b[0m\u001b[0mloads\u001b[0m\u001b[0;34m(\u001b[0m\u001b[0mbuf\u001b[0m\u001b[0;34m.\u001b[0m\u001b[0mgetbuffer\u001b[0m\u001b[0;34m(\u001b[0m\u001b[0;34m)\u001b[0m\u001b[0;34m)\u001b[0m\u001b[0;34m\u001b[0m\u001b[0;34m\u001b[0m\u001b[0m\n\u001b[0m\u001b[1;32m    252\u001b[0m \u001b[0;34m\u001b[0m\u001b[0m\n\u001b[1;32m    253\u001b[0m     \u001b[0;32mdef\u001b[0m \u001b[0mpoll\u001b[0m\u001b[0;34m(\u001b[0m\u001b[0mself\u001b[0m\u001b[0;34m,\u001b[0m \u001b[0mtimeout\u001b[0m\u001b[0;34m=\u001b[0m\u001b[0;36m0.0\u001b[0m\u001b[0;34m)\u001b[0m\u001b[0;34m:\u001b[0m\u001b[0;34m\u001b[0m\u001b[0;34m\u001b[0m\u001b[0m\n",
      "\u001b[0;31mEOFError\u001b[0m: Ran out of input"
     ]
    },
    {
     "name": "stderr",
     "output_type": "stream",
     "text": [
      "  File \"/usr/local/lib/python3.7/site-packages/scipy/optimize/optimize.py\", line 2166, in _minimize_scalar_brent\n",
      "    brent.optimize()\n",
      "  File \"/usr/local/lib/python3.7/site-packages/scipy/optimize/optimize.py\", line 2017, in optimize\n",
      "    fu = func(*((u,) + self.args))      # calculate new output value\n",
      "  File \"/Users/taylorhj/repo/batchglm/batchglm/train/numpy/base_glm/estimator.py\", line 421, in cost_b_var\n",
      "    return - np.sum(ll(data_jj, eta_loc_jj, x, xh_scale_jj))\n",
      "  File \"/Users/taylorhj/repo/batchglm/batchglm/train/numpy/glm_nb/model.py\", line 238, in fun\n",
      "    x * (eta_loc - log_r_plus_mu) + \\\n",
      "KeyboardInterrupt\n"
     ]
    }
   ],
   "source": [
    "part = de.test.partition(\n",
    "    data=data,\n",
    "    parts=\"cluster\"\n",
    ")\n",
    "test_part = part.wald(\n",
    "    formula_loc=\"~ 1 + condition\",\n",
    "    factor_loc_totest=\"condition\",\n",
    "    size_factors=data.obs[\"normalization_factor\"]\n",
    ")"
   ]
  },
  {
   "cell_type": "markdown",
   "metadata": {},
   "source": [
    "Note that there is one test and p-value for each partition for each gene now. We can summarize test statistics across partitions using summary:"
   ]
  },
  {
   "cell_type": "code",
   "execution_count": null,
   "metadata": {},
   "outputs": [],
   "source": [
    "test_part.summary().iloc[:10, :]"
   ]
  },
  {
   "cell_type": "markdown",
   "metadata": {},
   "source": [
    "Or look the results of a single partition:"
   ]
  },
  {
   "cell_type": "code",
   "execution_count": null,
   "metadata": {
    "scrolled": true
   },
   "outputs": [],
   "source": [
    "test_part.tests[test_part.partitions.index(\"c1\")].summary().iloc[:10, :]"
   ]
  },
  {
   "cell_type": "markdown",
   "metadata": {},
   "source": [
    "# Find cluster-specific gene progression across condition"
   ]
  },
  {
   "cell_type": "markdown",
   "metadata": {},
   "source": [
    "First, get the conditions as a continuous value (0, 1, 2) to use in the model. We also want to set up a partition object, so we can test each cluster. "
   ]
  },
  {
   "cell_type": "code",
   "execution_count": 4,
   "metadata": {},
   "outputs": [],
   "source": [
    "data.obs[\"condition_cont\"] = [[\"Normal\", \"preT1D\", \"T1D\"].index(x) for x in data.obs[\"detailed_cond\"]]"
   ]
  },
  {
   "cell_type": "code",
   "execution_count": 8,
   "metadata": {},
   "outputs": [],
   "source": [
    "part = de.test.partition(\n",
    "    data=data,\n",
    "    parts=\"cluster\"\n",
    ")"
   ]
  },
  {
   "cell_type": "markdown",
   "metadata": {},
   "source": [
    "Now run the model.\n",
    "\n",
    "For each cluster, look at the DE when looking at the continouous variable, `condition_cont` which is a 3 stage progression into "
   ]
  },
  {
   "cell_type": "code",
   "execution_count": 16,
   "metadata": {},
   "outputs": [
    {
     "name": "stderr",
     "output_type": "stream",
     "text": [
      "/usr/local/lib/python3.7/site-packages/dask/core.py:121: RuntimeWarning: divide by zero encountered in log\n",
      "  return func(*(_execute_task(a, cache) for a in args))\n"
     ]
    },
    {
     "name": "stdout",
     "output_type": "stream",
     "text": [
      "training location model: True\n",
      "training scale model: True\n",
      "iter   0: ll=220871631505.539398\n",
      "iter   1: ll=220871631505.539398, converged: 0.00% (loc: 100.00%, scale update: False), in 70.93sec\n",
      "iter   2: ll=220871631505.539398, converged: 100.00% (loc: 100.00%, scale update: True), in 969.40sec\n"
     ]
    },
    {
     "name": "stderr",
     "output_type": "stream",
     "text": [
      "/usr/local/lib/python3.7/site-packages/dask/array/core.py:2626: RuntimeWarning: divide by zero encountered in true_divide\n",
      "  size = (limit / dtype.itemsize / largest_block) ** (1 / len(autos))\n",
      "/usr/local/lib/python3.7/site-packages/dask/core.py:121: RuntimeWarning: divide by zero encountered in log\n",
      "  return func(*(_execute_task(a, cache) for a in args))\n"
     ]
    },
    {
     "name": "stdout",
     "output_type": "stream",
     "text": [
      "training location model: True\n",
      "training scale model: True\n",
      "iter   0: ll=102045194852.328278\n",
      "iter   1: ll=102045194852.328278, converged: 0.00% (loc: 100.00%, scale update: False), in 37.37sec\n",
      "iter   2: ll=102045194852.328278, converged: 100.00% (loc: 100.00%, scale update: True), in 581.82sec\n"
     ]
    },
    {
     "name": "stderr",
     "output_type": "stream",
     "text": [
      "/usr/local/lib/python3.7/site-packages/dask/array/core.py:2626: RuntimeWarning: divide by zero encountered in true_divide\n",
      "  size = (limit / dtype.itemsize / largest_block) ** (1 / len(autos))\n",
      "/usr/local/lib/python3.7/site-packages/dask/core.py:121: RuntimeWarning: divide by zero encountered in log\n",
      "  return func(*(_execute_task(a, cache) for a in args))\n"
     ]
    },
    {
     "name": "stdout",
     "output_type": "stream",
     "text": [
      "training location model: True\n",
      "training scale model: True\n",
      "iter   0: ll=54629754994.812981\n",
      "iter   1: ll=54629754994.812981, converged: 0.00% (loc: 100.00%, scale update: False), in 20.36sec\n",
      "iter   2: ll=54629754994.812981, converged: 100.00% (loc: 100.00%, scale update: True), in 217.65sec\n"
     ]
    },
    {
     "name": "stderr",
     "output_type": "stream",
     "text": [
      "/usr/local/lib/python3.7/site-packages/dask/array/core.py:2626: RuntimeWarning: divide by zero encountered in true_divide\n",
      "  size = (limit / dtype.itemsize / largest_block) ** (1 / len(autos))\n",
      "/usr/local/lib/python3.7/site-packages/dask/core.py:121: RuntimeWarning: divide by zero encountered in log\n",
      "  return func(*(_execute_task(a, cache) for a in args))\n"
     ]
    },
    {
     "name": "stdout",
     "output_type": "stream",
     "text": [
      "training location model: True\n",
      "training scale model: True\n",
      "iter   0: ll=39148377025.816788\n",
      "iter   1: ll=39148377025.816788, converged: 0.00% (loc: 100.00%, scale update: False), in 14.56sec\n",
      "iter   2: ll=39148377025.816788, converged: 100.00% (loc: 100.00%, scale update: True), in 183.60sec\n"
     ]
    },
    {
     "name": "stderr",
     "output_type": "stream",
     "text": [
      "/usr/local/lib/python3.7/site-packages/dask/array/core.py:2626: RuntimeWarning: divide by zero encountered in true_divide\n",
      "  size = (limit / dtype.itemsize / largest_block) ** (1 / len(autos))\n",
      "/usr/local/lib/python3.7/site-packages/dask/core.py:121: RuntimeWarning: divide by zero encountered in log\n",
      "  return func(*(_execute_task(a, cache) for a in args))\n"
     ]
    },
    {
     "name": "stdout",
     "output_type": "stream",
     "text": [
      "training location model: True\n",
      "training scale model: True\n",
      "iter   0: ll=24437598752.869244\n",
      "iter   1: ll=24437598752.869244, converged: 0.00% (loc: 100.00%, scale update: False), in 10.33sec\n",
      "iter   2: ll=24437598752.869244, converged: 100.00% (loc: 100.00%, scale update: True), in 108.81sec\n"
     ]
    },
    {
     "name": "stderr",
     "output_type": "stream",
     "text": [
      "/usr/local/lib/python3.7/site-packages/dask/array/core.py:2626: RuntimeWarning: divide by zero encountered in true_divide\n",
      "  size = (limit / dtype.itemsize / largest_block) ** (1 / len(autos))\n",
      "/usr/local/lib/python3.7/site-packages/dask/core.py:121: RuntimeWarning: divide by zero encountered in log\n",
      "  return func(*(_execute_task(a, cache) for a in args))\n"
     ]
    },
    {
     "name": "stdout",
     "output_type": "stream",
     "text": [
      "training location model: True\n",
      "training scale model: True\n",
      "iter   0: ll=6324742006.722087\n",
      "iter   1: ll=6324742006.722087, converged: 0.00% (loc: 100.00%, scale update: False), in 3.62sec\n",
      "iter   2: ll=6324742006.722087, converged: 100.00% (loc: 100.00%, scale update: True), in 49.39sec\n"
     ]
    },
    {
     "name": "stderr",
     "output_type": "stream",
     "text": [
      "/usr/local/lib/python3.7/site-packages/dask/array/core.py:2626: RuntimeWarning: divide by zero encountered in true_divide\n",
      "  size = (limit / dtype.itemsize / largest_block) ** (1 / len(autos))\n",
      "/usr/local/lib/python3.7/site-packages/dask/core.py:121: RuntimeWarning: divide by zero encountered in log\n",
      "  return func(*(_execute_task(a, cache) for a in args))\n"
     ]
    },
    {
     "name": "stdout",
     "output_type": "stream",
     "text": [
      "training location model: True\n",
      "training scale model: True\n",
      "iter   0: ll=3726166736.310127\n",
      "iter   1: ll=3726166736.310127, converged: 0.00% (loc: 100.00%, scale update: False), in 2.66sec\n",
      "iter   2: ll=3726166736.310127, converged: 100.00% (loc: 100.00%, scale update: True), in 43.58sec\n"
     ]
    },
    {
     "name": "stderr",
     "output_type": "stream",
     "text": [
      "/usr/local/lib/python3.7/site-packages/dask/array/core.py:2626: RuntimeWarning: divide by zero encountered in true_divide\n",
      "  size = (limit / dtype.itemsize / largest_block) ** (1 / len(autos))\n",
      "/usr/local/lib/python3.7/site-packages/dask/core.py:121: RuntimeWarning: divide by zero encountered in log\n",
      "  return func(*(_execute_task(a, cache) for a in args))\n"
     ]
    },
    {
     "name": "stdout",
     "output_type": "stream",
     "text": [
      "training location model: True\n",
      "training scale model: True\n",
      "iter   0: ll=2144384938.131994\n",
      "iter   1: ll=2144384938.131994, converged: 0.00% (loc: 100.00%, scale update: False), in 2.45sec\n",
      "iter   2: ll=2144384938.131994, converged: 100.00% (loc: 100.00%, scale update: True), in 39.81sec\n"
     ]
    },
    {
     "name": "stderr",
     "output_type": "stream",
     "text": [
      "/usr/local/lib/python3.7/site-packages/dask/array/core.py:2626: RuntimeWarning: divide by zero encountered in true_divide\n",
      "  size = (limit / dtype.itemsize / largest_block) ** (1 / len(autos))\n"
     ]
    }
   ],
   "source": [
    "part_det = part.wald(\n",
    "    formula_loc=\"~ 1 + condition_cont\",\n",
    "    factor_loc_totest=\"condition_cont\",\n",
    "    as_numeric=\"condition_cont\",\n",
    "    size_factors=data.obs[\"normalization_factor\"]\n",
    ")"
   ]
  },
  {
   "cell_type": "code",
   "execution_count": 21,
   "metadata": {},
   "outputs": [
    {
     "data": {
      "text/plain": [
       "['0', '1', '2', '3', '4', '5', '6', '7']"
      ]
     },
     "execution_count": 21,
     "metadata": {},
     "output_type": "execute_result"
    }
   ],
   "source": [
    "part_det.partitions"
   ]
  },
  {
   "cell_type": "code",
   "execution_count": 48,
   "metadata": {},
   "outputs": [
    {
     "data": {
      "text/html": [
       "<div>\n",
       "<style scoped>\n",
       "    .dataframe tbody tr th:only-of-type {\n",
       "        vertical-align: middle;\n",
       "    }\n",
       "\n",
       "    .dataframe tbody tr th {\n",
       "        vertical-align: top;\n",
       "    }\n",
       "\n",
       "    .dataframe thead th {\n",
       "        text-align: right;\n",
       "    }\n",
       "</style>\n",
       "<table border=\"1\" class=\"dataframe\">\n",
       "  <thead>\n",
       "    <tr style=\"text-align: right;\">\n",
       "      <th></th>\n",
       "      <th>gene</th>\n",
       "      <th>pval</th>\n",
       "      <th>qval</th>\n",
       "      <th>log2fc</th>\n",
       "      <th>mean</th>\n",
       "      <th>zero_mean</th>\n",
       "      <th>grad</th>\n",
       "      <th>coef_mle</th>\n",
       "      <th>coef_sd</th>\n",
       "      <th>ll</th>\n",
       "    </tr>\n",
       "  </thead>\n",
       "  <tbody>\n",
       "    <tr>\n",
       "      <th>0</th>\n",
       "      <td>ENSG00000238009</td>\n",
       "      <td>0.0</td>\n",
       "      <td>0.0</td>\n",
       "      <td>9.436300e-17</td>\n",
       "      <td>0.118751</td>\n",
       "      <td>False</td>\n",
       "      <td>1.786246e+123</td>\n",
       "      <td>9.436300e-17</td>\n",
       "      <td>5.602691e-64</td>\n",
       "      <td>-4.758461e+06</td>\n",
       "    </tr>\n",
       "    <tr>\n",
       "      <th>1</th>\n",
       "      <td>ENSG00000237491</td>\n",
       "      <td>0.0</td>\n",
       "      <td>0.0</td>\n",
       "      <td>9.436300e-17</td>\n",
       "      <td>0.163883</td>\n",
       "      <td>False</td>\n",
       "      <td>1.786246e+123</td>\n",
       "      <td>9.436300e-17</td>\n",
       "      <td>5.602691e-64</td>\n",
       "      <td>-4.758461e+06</td>\n",
       "    </tr>\n",
       "    <tr>\n",
       "      <th>2</th>\n",
       "      <td>ENSG00000177757</td>\n",
       "      <td>0.0</td>\n",
       "      <td>0.0</td>\n",
       "      <td>9.436300e-17</td>\n",
       "      <td>0.008338</td>\n",
       "      <td>False</td>\n",
       "      <td>1.786246e+123</td>\n",
       "      <td>9.436300e-17</td>\n",
       "      <td>5.602691e-64</td>\n",
       "      <td>-4.758461e+06</td>\n",
       "    </tr>\n",
       "    <tr>\n",
       "      <th>3</th>\n",
       "      <td>ENSG00000225880</td>\n",
       "      <td>0.0</td>\n",
       "      <td>0.0</td>\n",
       "      <td>9.436300e-17</td>\n",
       "      <td>0.164874</td>\n",
       "      <td>False</td>\n",
       "      <td>1.786246e+123</td>\n",
       "      <td>9.436300e-17</td>\n",
       "      <td>5.602691e-64</td>\n",
       "      <td>-4.758461e+06</td>\n",
       "    </tr>\n",
       "    <tr>\n",
       "      <th>4</th>\n",
       "      <td>ENSG00000230368</td>\n",
       "      <td>0.0</td>\n",
       "      <td>0.0</td>\n",
       "      <td>9.436300e-17</td>\n",
       "      <td>0.298408</td>\n",
       "      <td>False</td>\n",
       "      <td>1.786246e+123</td>\n",
       "      <td>9.436300e-17</td>\n",
       "      <td>5.602691e-64</td>\n",
       "      <td>-4.758461e+06</td>\n",
       "    </tr>\n",
       "    <tr>\n",
       "      <th>...</th>\n",
       "      <td>...</td>\n",
       "      <td>...</td>\n",
       "      <td>...</td>\n",
       "      <td>...</td>\n",
       "      <td>...</td>\n",
       "      <td>...</td>\n",
       "      <td>...</td>\n",
       "      <td>...</td>\n",
       "      <td>...</td>\n",
       "      <td>...</td>\n",
       "    </tr>\n",
       "    <tr>\n",
       "      <th>22499</th>\n",
       "      <td>ENSG00000197934</td>\n",
       "      <td>1.0</td>\n",
       "      <td>1.0</td>\n",
       "      <td>0.000000e+00</td>\n",
       "      <td>0.000000</td>\n",
       "      <td>True</td>\n",
       "      <td>2.770133e-127</td>\n",
       "      <td>0.000000e+00</td>\n",
       "      <td>8.129575e+62</td>\n",
       "      <td>-1.769463e-123</td>\n",
       "    </tr>\n",
       "    <tr>\n",
       "      <th>22503</th>\n",
       "      <td>ENSG00000154736</td>\n",
       "      <td>1.0</td>\n",
       "      <td>1.0</td>\n",
       "      <td>0.000000e+00</td>\n",
       "      <td>0.000000</td>\n",
       "      <td>True</td>\n",
       "      <td>2.770133e-127</td>\n",
       "      <td>0.000000e+00</td>\n",
       "      <td>8.129575e+62</td>\n",
       "      <td>-1.769463e-123</td>\n",
       "    </tr>\n",
       "    <tr>\n",
       "      <th>22677</th>\n",
       "      <td>ENSG00000230061</td>\n",
       "      <td>1.0</td>\n",
       "      <td>1.0</td>\n",
       "      <td>0.000000e+00</td>\n",
       "      <td>0.000000</td>\n",
       "      <td>True</td>\n",
       "      <td>2.770133e-127</td>\n",
       "      <td>0.000000e+00</td>\n",
       "      <td>8.129575e+62</td>\n",
       "      <td>-1.769463e-123</td>\n",
       "    </tr>\n",
       "    <tr>\n",
       "      <th>22704</th>\n",
       "      <td>ENSG00000224413</td>\n",
       "      <td>1.0</td>\n",
       "      <td>1.0</td>\n",
       "      <td>0.000000e+00</td>\n",
       "      <td>0.000000</td>\n",
       "      <td>True</td>\n",
       "      <td>2.770133e-127</td>\n",
       "      <td>0.000000e+00</td>\n",
       "      <td>8.129575e+62</td>\n",
       "      <td>-1.769463e-123</td>\n",
       "    </tr>\n",
       "    <tr>\n",
       "      <th>22708</th>\n",
       "      <td>ENSG00000228404</td>\n",
       "      <td>1.0</td>\n",
       "      <td>1.0</td>\n",
       "      <td>0.000000e+00</td>\n",
       "      <td>0.000000</td>\n",
       "      <td>True</td>\n",
       "      <td>2.770133e-127</td>\n",
       "      <td>0.000000e+00</td>\n",
       "      <td>8.129575e+62</td>\n",
       "      <td>-1.769463e-123</td>\n",
       "    </tr>\n",
       "  </tbody>\n",
       "</table>\n",
       "<p>22741 rows × 10 columns</p>\n",
       "</div>"
      ],
      "text/plain": [
       "                  gene  pval  qval        log2fc      mean  zero_mean  \\\n",
       "0      ENSG00000238009   0.0   0.0  9.436300e-17  0.118751      False   \n",
       "1      ENSG00000237491   0.0   0.0  9.436300e-17  0.163883      False   \n",
       "2      ENSG00000177757   0.0   0.0  9.436300e-17  0.008338      False   \n",
       "3      ENSG00000225880   0.0   0.0  9.436300e-17  0.164874      False   \n",
       "4      ENSG00000230368   0.0   0.0  9.436300e-17  0.298408      False   \n",
       "...                ...   ...   ...           ...       ...        ...   \n",
       "22499  ENSG00000197934   1.0   1.0  0.000000e+00  0.000000       True   \n",
       "22503  ENSG00000154736   1.0   1.0  0.000000e+00  0.000000       True   \n",
       "22677  ENSG00000230061   1.0   1.0  0.000000e+00  0.000000       True   \n",
       "22704  ENSG00000224413   1.0   1.0  0.000000e+00  0.000000       True   \n",
       "22708  ENSG00000228404   1.0   1.0  0.000000e+00  0.000000       True   \n",
       "\n",
       "                grad      coef_mle       coef_sd             ll  \n",
       "0      1.786246e+123  9.436300e-17  5.602691e-64  -4.758461e+06  \n",
       "1      1.786246e+123  9.436300e-17  5.602691e-64  -4.758461e+06  \n",
       "2      1.786246e+123  9.436300e-17  5.602691e-64  -4.758461e+06  \n",
       "3      1.786246e+123  9.436300e-17  5.602691e-64  -4.758461e+06  \n",
       "4      1.786246e+123  9.436300e-17  5.602691e-64  -4.758461e+06  \n",
       "...              ...           ...           ...            ...  \n",
       "22499  2.770133e-127  0.000000e+00  8.129575e+62 -1.769463e-123  \n",
       "22503  2.770133e-127  0.000000e+00  8.129575e+62 -1.769463e-123  \n",
       "22677  2.770133e-127  0.000000e+00  8.129575e+62 -1.769463e-123  \n",
       "22704  2.770133e-127  0.000000e+00  8.129575e+62 -1.769463e-123  \n",
       "22708  2.770133e-127  0.000000e+00  8.129575e+62 -1.769463e-123  \n",
       "\n",
       "[22741 rows x 10 columns]"
      ]
     },
     "execution_count": 48,
     "metadata": {},
     "output_type": "execute_result"
    }
   ],
   "source": [
    "part_det.tests[1].summary().sort_values([\"log2fc\", \"pval\"], ascending=[False, True])"
   ]
  },
  {
   "cell_type": "code",
   "execution_count": 49,
   "metadata": {},
   "outputs": [
    {
     "name": "stdout",
     "output_type": "stream",
     "text": [
      "Help on DifferentialExpressionTestWald in module diffxpy.testing.det object:\n",
      "\n",
      "class DifferentialExpressionTestWald(_DifferentialExpressionTestSingle)\n",
      " |  DifferentialExpressionTestWald(model_estim: batchglm.models.base.estimator.EstimatorBaseTyping, col_indices: numpy.ndarray, noise_model: str, sample_description: pandas.core.frame.DataFrame)\n",
      " |  \n",
      " |  Single wald test per gene.\n",
      " |  \n",
      " |  Method resolution order:\n",
      " |      DifferentialExpressionTestWald\n",
      " |      _DifferentialExpressionTestSingle\n",
      " |      _DifferentialExpressionTest\n",
      " |      builtins.object\n",
      " |  \n",
      " |  Methods defined here:\n",
      " |  \n",
      " |  __init__(self, model_estim: batchglm.models.base.estimator.EstimatorBaseTyping, col_indices: numpy.ndarray, noise_model: str, sample_description: pandas.core.frame.DataFrame)\n",
      " |      :param model_estim:\n",
      " |      :param col_indices: indices of coefs to test\n",
      " |  \n",
      " |  log_fold_change(self, base=2.718281828459045, **kwargs)\n",
      " |      Returns one fold change per gene\n",
      " |      \n",
      " |      Returns coefficient if only one coefficient is testeed.\n",
      " |      Returns the coefficient that is the maximum absolute coefficient if multiple coefficients are tested.\n",
      " |  \n",
      " |  plot_comparison_ols_coef(self, size=20, show: bool = True, save: Union[str, NoneType] = None, suffix: str = '_ols_comparison_coef.png', ncols=3, row_gap=0.3, col_gap=0.25, return_axs: bool = False)\n",
      " |      Plot location model coefficients of inferred model against those obtained from an OLS model.\n",
      " |      \n",
      " |      Red line shown is the identity line.\n",
      " |      Note that this comparison only seems to be useful if the covariates are zero centred. This is\n",
      " |      especially important for continuous covariates.\n",
      " |      \n",
      " |      :param size: Size of points.\n",
      " |      :param show: Whether (if save is not None) and where (save indicates dir and file stem) to display plot.\n",
      " |      :param save: Path+file name stem to save plots to.\n",
      " |          File will be save+suffix. Does not save if save is None.\n",
      " |      :param suffix: Suffix for file name to save plot to. Also use this to set the file type.\n",
      " |      :param ncols: Number of columns in plot grid if multiple genes are plotted.\n",
      " |      :param row_gap: Vertical gap between panel rows relative to panel height.\n",
      " |      :param col_gap: Horizontal gap between panel columns relative to panel width.\n",
      " |      :param return_axs: Whether to return axis objects.\n",
      " |      \n",
      " |      :return: Matplotlib axis objects.\n",
      " |  \n",
      " |  plot_comparison_ols_pred(self, size=20, log1p_transform: bool = True, show: bool = True, save: Union[str, NoneType] = None, suffix: str = '_ols_comparison_pred.png', row_gap=0.3, col_gap=0.25, return_axs: bool = False)\n",
      " |      Compare location model prediction of inferred model with one obtained from an OLS model.\n",
      " |      \n",
      " |      Red line shown is the identity line.\n",
      " |      \n",
      " |      :param size: Size of points.\n",
      " |      :param log1p_transform: Whether to log1p transform the data.\n",
      " |      :param show: Whether (if save is not None) and where (save indicates dir and file stem) to display plot.\n",
      " |      :param save: Path+file name stem to save plots to.\n",
      " |          File will be save+suffix. Does not save if save is None.\n",
      " |      :param suffix: Suffix for file name to save plot to. Also use this to set the file type.\n",
      " |      :param row_gap: Vertical gap between panel rows relative to panel height.\n",
      " |      :param col_gap: Horizontal gap between panel columns relative to panel width.\n",
      " |      :param return_axs: Whether to return axis objects.\n",
      " |      \n",
      " |      :return: Matplotlib axis objects.\n",
      " |  \n",
      " |  plot_gene_fits_boxplots(self, gene_names: Tuple, covariate_x: str = None, covariate_hue: str = None, log1p_transform: bool = False, incl_fits: bool = True, show: bool = True, save: Union[str, NoneType] = None, suffix: str = '_genes_boxplot.png', ncols=3, row_gap=0.3, col_gap=0.25, xtick_rotation=0, legend: bool = True, return_axs: bool = False, **kwargs)\n",
      " |      Plot gene-wise model fits and observed distribution by covariates.\n",
      " |      \n",
      " |      Use this to inspect fitting performance on individual genes.\n",
      " |      \n",
      " |      :param gene_names: Genes to generate plots for.\n",
      " |      :param covariate_x: Covariate in location model to partition x-axis by.\n",
      " |      :param covariate_hue: Covariate in location model to stack boxplots by.\n",
      " |      :param log1p_transform: Whether to log transform observations\n",
      " |          before estimating the distribution with boxplot. Model estimates are adjusted accordingly.\n",
      " |      :param incl_fits: Whether to include fits in plot.\n",
      " |      :param show: Whether (if save is not None) and where (save indicates dir and file stem) to display plot.\n",
      " |      :param save: Path+file name stem to save plots to.\n",
      " |          File will be save+suffix. Does not save if save is None.\n",
      " |      :param suffix: Suffix for file name to save plot to. Also use this to set the file type.\n",
      " |      :param ncols: Number of columns in plot grid if multiple genes are plotted.\n",
      " |      :param row_gap: Vertical gap between panel rows relative to panel height.\n",
      " |      :param col_gap: Horizontal gap between panel columns relative to panel width.\n",
      " |      :param xtick_rotation: Angle to rotate x-ticks by.\n",
      " |      :param legend: Whether to show legend.\n",
      " |      :param return_axs: Whether to return axis objects.\n",
      " |      \n",
      " |      :return: Matplotlib axis objects.\n",
      " |  \n",
      " |  plot_gene_fits_violins(self, gene_names: Tuple, covariate_x: str = None, log1p_transform: bool = False, show: bool = True, save: Union[str, NoneType] = None, suffix: str = '_genes_violin.png', ncols=3, row_gap=0.3, col_gap=0.25, xtick_rotation=0, return_axs: bool = False, **kwargs)\n",
      " |      Plot gene-wise model fits and observed distribution by covariates as violins.\n",
      " |      \n",
      " |      Use this to inspect fitting performance on individual genes.\n",
      " |      \n",
      " |      :param gene_names: Genes to generate plots for.\n",
      " |      :param covariate_x: Covariate in location model to partition x-axis by.\n",
      " |      :param log1p_transform: Whether to log transform observations\n",
      " |          before estimating the distribution with boxplot. Model estimates are adjusted accordingly.\n",
      " |      :param show: Whether (if save is not None) and where (save indicates dir and file stem) to display plot.\n",
      " |      :param save: Path+file name stem to save plots to.\n",
      " |          File will be save+suffix. Does not save if save is None.\n",
      " |      :param suffix: Suffix for file name to save plot to. Also use this to set the file type.\n",
      " |      :param ncols: Number of columns in plot grid if multiple genes are plotted.\n",
      " |      :param row_gap: Vertical gap between panel rows relative to panel height.\n",
      " |      :param col_gap: Horizontal gap between panel columns relative to panel width.\n",
      " |      :param xtick_rotation: Angle to rotate x-ticks by.\n",
      " |      :param return_axs: Whether to return axis objects.\n",
      " |      \n",
      " |      :return: Matplotlib axis objects.\n",
      " |  \n",
      " |  plot_vs_ttest(self, log10=False, show: bool = True, save: Union[str, NoneType] = None, suffix: str = '_plot_vs_ttest.png', return_axs: bool = False)\n",
      " |      Normalizes data by size factors if any were used in model.\n",
      " |      \n",
      " |      :param log10:\n",
      " |      :param show: Whether (if save is not None) and where (save indicates dir and file stem) to display plot.\n",
      " |      :param save: Path+file name stem to save plots to.\n",
      " |          File will be save+suffix. Does not save if save is None.\n",
      " |      :param suffix: Suffix for file name to save plot to. Also use this to set the file type.\n",
      " |      :param return_axs: Whether to return axis objects.\n",
      " |      \n",
      " |      :return:\n",
      " |  \n",
      " |  summary(self, qval_thres=None, fc_upper_thres=None, fc_lower_thres=None, mean_thres=None, **kwargs) -> pandas.core.frame.DataFrame\n",
      " |      Summarize differential expression results into an output table.\n",
      " |      \n",
      " |      :param qval_thres: Upper bound of corrected p-values for gene to be included.\n",
      " |      :param fc_upper_thres: Upper bound of fold-change for gene to be included.\n",
      " |      :param fc_lower_thres: Lower bound of fold-change p-values for gene to be included.\n",
      " |      :param mean_thres: Lower bound of average expression for gene to be included.\n",
      " |      :return: Summary table of differential expression test.\n",
      " |  \n",
      " |  ----------------------------------------------------------------------\n",
      " |  Data descriptors defined here:\n",
      " |  \n",
      " |  gene_ids\n",
      " |  \n",
      " |  model_gradient\n",
      " |  \n",
      " |  x\n",
      " |  \n",
      " |  ----------------------------------------------------------------------\n",
      " |  Data and other attributes defined here:\n",
      " |  \n",
      " |  __abstractmethods__ = frozenset()\n",
      " |  \n",
      " |  __annotations__ = {'_error_codes': <class 'numpy.ndarray'>, '_niter': ...\n",
      " |  \n",
      " |  ----------------------------------------------------------------------\n",
      " |  Methods inherited from _DifferentialExpressionTest:\n",
      " |  \n",
      " |  log10_fold_change(self, **kwargs)\n",
      " |      Calculates the log_10 fold change(s) for this DifferentialExpressionTest.\n",
      " |  \n",
      " |  log10_pval_clean(self, log10_threshold=-30)\n",
      " |      Return log10 transformed and cleaned p-values.\n",
      " |      \n",
      " |      NaN p-values are set to one and p-values below log10_threshold\n",
      " |      in log10 space are set to log10_threshold.\n",
      " |      \n",
      " |      :param log10_threshold: minimal log10 p-value to return.\n",
      " |      :return: Cleaned log10 transformed p-values.\n",
      " |  \n",
      " |  log10_qval_clean(self, log10_threshold=-30)\n",
      " |      Return log10 transformed and cleaned q-values.\n",
      " |      \n",
      " |      NaN p-values are set to one and q-values below log10_threshold\n",
      " |      in log10 space are set to log10_threshold.\n",
      " |      \n",
      " |      :param log10_threshold: minimal log10 q-value to return.\n",
      " |      :return: Cleaned log10 transformed q-values.\n",
      " |  \n",
      " |  log2_fold_change(self, **kwargs)\n",
      " |      Calculates the pairwise log_2 fold change(s) for this DifferentialExpressionTest.\n",
      " |  \n",
      " |  plot_ma(self, corrected_pval=True, log2_fc_threshold=10, min_mean=0.0001, alpha=0.05, size=20, highlight_ids: Union[List, Tuple] = (), highlight_size: float = 30, highlight_col: str = 'red', show: bool = True, save: Union[str, NoneType] = None, suffix: str = '_ma_plot.png', return_axs: bool = False)\n",
      " |      Returns an MA plot of mean expression vs. log fold change with significance\n",
      " |      super-imposed.\n",
      " |      \n",
      " |      :param corrected_pval: Whether to use multiple testing corrected\n",
      " |          or raw p-values.\n",
      " |      :param log2_fc_threshold: Negative lower and upper bound of\n",
      " |          log2 fold change displayed in plot.\n",
      " |      :param min_mean:\n",
      " |          Lower bound for mean expression of plot. All values below this threshold\n",
      " |          are updated to this threshold.\n",
      " |      :param alpha: p/q-value lower bound at which a test is considered\n",
      " |          non-significant. The corresponding points are colored in grey.\n",
      " |      :param size: Size of points.\n",
      " |      :param highlight_ids: Genes to highlight in volcano plot.\n",
      " |      :param highlight_size: Size of points of genes to highlight in volcano plot.\n",
      " |      :param highlight_col: Color of points of genes to highlight in volcano plot.\n",
      " |      :param show: Whether (if save is not None) and where (save indicates dir and file stem) to display plot.\n",
      " |      :param save: Path+file name stem to save plots to.\n",
      " |          File will be save+suffix. Does not save if save is None.\n",
      " |      :param suffix: Suffix for file name to save plot to. Also use this to set the file type.\n",
      " |      :param return_axs: Whether to return axis objects.\n",
      " |      \n",
      " |      :return: Tuple of matplotlib (figure, axis)\n",
      " |  \n",
      " |  plot_volcano(self, corrected_pval=True, log10_p_threshold=-30, log2_fc_threshold=10, alpha=0.05, min_fc=1, size=20, highlight_ids: Union[List, Tuple] = (), highlight_size: float = 30, highlight_col: str = 'red', show: bool = True, save: Union[str, NoneType] = None, suffix: str = '_volcano.png', return_axs: bool = False)\n",
      " |      Returns a volcano plot of p-value vs. log fold change\n",
      " |      \n",
      " |      :param corrected_pval: Whether to use multiple testing corrected\n",
      " |          or raw p-values.\n",
      " |      :param log10_p_threshold: lower bound of log10 p-values displayed in plot.\n",
      " |      :param log2_fc_threshold: Negative lower and upper bound of\n",
      " |          log2 fold change displayed in plot.\n",
      " |      :param alpha: p/q-value lower bound at which a test is considered\n",
      " |          non-significant. The corresponding points are colored in grey.\n",
      " |      :param min_fc: Fold-change lower bound for visualization,\n",
      " |          the points below the threshold are colored in grey.\n",
      " |      :param size: Size of points.\n",
      " |      :param highlight_ids: Genes to highlight in volcano plot.\n",
      " |      :param highlight_size: Size of points of genes to highlight in volcano plot.\n",
      " |      :param highlight_col: Color of points of genes to highlight in volcano plot.\n",
      " |      :param show: Whether (if save is not None) and where (save indicates dir and file stem) to display plot.\n",
      " |      :param save: Path+file name stem to save plots to.\n",
      " |          File will be save+suffix. Does not save if save is None.\n",
      " |      :param suffix: Suffix for file name to save plot to. Also use this to set the file type.\n",
      " |      :param return_axs: Whether to return axis objects.\n",
      " |      \n",
      " |      :return: Tuple of matplotlib (figure, axis)\n",
      " |  \n",
      " |  ----------------------------------------------------------------------\n",
      " |  Data descriptors inherited from _DifferentialExpressionTest:\n",
      " |  \n",
      " |  __dict__\n",
      " |      dictionary for instance variables (if defined)\n",
      " |  \n",
      " |  __weakref__\n",
      " |      list of weak references to the object (if defined)\n",
      " |  \n",
      " |  log_likelihood\n",
      " |  \n",
      " |  mean\n",
      " |  \n",
      " |  pval\n",
      " |  \n",
      " |  qval\n",
      "\n"
     ]
    }
   ],
   "source": [
    "help(part_det.tests[1])"
   ]
  },
  {
   "cell_type": "code",
   "execution_count": 47,
   "metadata": {},
   "outputs": [
    {
     "data": {
      "image/png": "[encoded data removed]",
      "text/plain": [
       "<Figure size 432x288 with 1 Axes>"
      ]
     },
     "metadata": {
      "needs_background": "light"
     },
     "output_type": "display_data"
    }
   ],
   "source": [
    "# part_det.tests[7].plot_volcano(corrected_pval=True, min_fc=1.05, alpha=0.05, size=20)\n",
    "part_det.tests[1].plot_ma()"
   ]
  },
  {
   "cell_type": "code",
   "execution_count": null,
   "metadata": {},
   "outputs": [],
   "source": []
  }
 ],
 "metadata": {
  "kernelspec": {
   "display_name": "Python 3",
   "language": "python",
   "name": "python3"
  },
  "language_info": {
   "codemirror_mode": {
    "name": "ipython",
    "version": 3
   },
   "file_extension": ".py",
   "mimetype": "text/x-python",
   "name": "python",
   "nbconvert_exporter": "python",
   "pygments_lexer": "ipython3",
   "version": "3.7.7"
  },
  "toc": {
   "base_numbering": 1,
   "nav_menu": {},
   "number_sections": false,
   "sideBar": true,
   "skip_h1_title": false,
   "title_cell": "Table of Contents",
   "title_sidebar": "Contents",
   "toc_cell": false,
   "toc_position": {
    "height": "calc(100% - 180px)",
    "left": "10px",
    "top": "150px",
    "width": "212px"
   },
   "toc_section_display": true,
   "toc_window_display": true
  }
 },
 "nbformat": 4,
 "nbformat_minor": 1
}
